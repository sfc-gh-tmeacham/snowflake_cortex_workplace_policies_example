{
 "cells": [
  {
   "cell_type": "code",
   "execution_count": null,
   "id": "d4fbf328-8e6f-46d5-8285-59bb3e6d8d22",
   "metadata": {
    "language": "sql",
    "name": "cell1"
   },
   "outputs": [],
   "source": [
    "use role sysadmin;\n",
    "create warehouse if not exists compute_wh;\n",
    "use warehouse compute_wh;\n",
    "\n",
    "create database if not exists sandbox_db;\n",
    "use database sandbox_db;\n",
    "\n",
    "create schema if not exists workplace_policy_demo;\n",
    "use schema WORKPLACE_POLICY_DEMO;"
   ]
  },
  {
   "cell_type": "code",
   "execution_count": null,
   "id": "24cbdbdf-a820-4ce2-b743-a5b0895c1898",
   "metadata": {
    "collapsed": false,
    "language": "sql",
    "name": "cell2"
   },
   "outputs": [],
   "source": [
    "select\n",
    "    current_user(),\n",
    "    current_role(),\n",
    "    current_database(),\n",
    "    current_schema(),\n",
    "    current_warehouse();"
   ]
  },
  {
   "cell_type": "code",
   "execution_count": null,
   "id": "bdbe491e-1853-4158-81d8-006a3f5eb28d",
   "metadata": {
    "language": "sql",
    "name": "cell4"
   },
   "outputs": [],
   "source": [
    "create stage if not exists workplace_policies\n",
    "    encryption = (type = 'snowflake_sse')\n",
    "    directory = ( enable = true )\n",
    "    comment = 'Workplace policy documents';"
   ]
  },
  {
   "cell_type": "code",
   "execution_count": null,
   "id": "ff7ae873-91cb-4e6a-a670-7ac68b15d679",
   "metadata": {
    "collapsed": false,
    "language": "sql",
    "name": "cell6"
   },
   "outputs": [],
   "source": [
    "show stages;"
   ]
  },
  {
   "cell_type": "code",
   "execution_count": null,
   "id": "9c85859d-2c0c-4500-83d9-d176b380421a",
   "metadata": {
    "collapsed": false,
    "language": "sql",
    "name": "cell5"
   },
   "outputs": [],
   "source": [
    "desc stage WORKPLACE_POLICIES;"
   ]
  },
  {
   "cell_type": "code",
   "execution_count": null,
   "id": "c1ef4ddd-93b8-4623-af29-7df8fe352d6a",
   "metadata": {
    "collapsed": false,
    "language": "sql",
    "name": "cell7"
   },
   "outputs": [],
   "source": [
    "ls @workplace_policies;"
   ]
  },
  {
   "cell_type": "code",
   "execution_count": null,
   "id": "082de2e6-3e39-480f-b2bc-c0099d82f004",
   "metadata": {
    "collapsed": false,
    "language": "sql",
    "name": "cell8"
   },
   "outputs": [],
   "source": [
    "select \n",
    "    *,\n",
    "    GET_PRESIGNED_URL(@workplace_policies, relative_path)\n",
    "from directory(@workplace_policies)"
   ]
  },
  {
   "cell_type": "code",
   "execution_count": null,
   "id": "cbd5edd3-b81a-4d40-af91-14366db94d80",
   "metadata": {
    "language": "sql",
    "name": "cell10"
   },
   "outputs": [],
   "source": [
    "create or replace function pdf_text_chunker(file_url string)\n",
    "returns table (chunk varchar)\n",
    "language python\n",
    "runtime_version = '3.9'\n",
    "handler = 'pdf_text_chunker'\n",
    "packages = ('snowflake-snowpark-python','PyPDF2', 'langchain')\n",
    "as\n",
    "$$\n",
    "from snowflake.snowpark.types import StringType, StructField, StructType\n",
    "from langchain.text_splitter import RecursiveCharacterTextSplitter\n",
    "from snowflake.snowpark.files import SnowflakeFile\n",
    "import PyPDF2, io\n",
    "import logging\n",
    "import pandas as pd\n",
    "\n",
    "class pdf_text_chunker:\n",
    "\n",
    "    def read_pdf(self, file_url: str) -> str:\n",
    "    \n",
    "        logger = logging.getLogger(\"udf_logger\")\n",
    "        logger.info(f\"Opening file {file_url}\")\n",
    "    \n",
    "        with SnowflakeFile.open(file_url, 'rb') as f:\n",
    "            buffer = io.BytesIO(f.readall())\n",
    "            \n",
    "        reader = PyPDF2.PdfReader(buffer)   \n",
    "        text = \"\"\n",
    "        for page in reader.pages:\n",
    "            try:\n",
    "                text += page.extract_text().replace('\\n', ' ').replace('\\0', ' ')\n",
    "            except:\n",
    "                text = \"Unable to Extract\"\n",
    "                logger.warn(f\"Unable to extract from file {file_url}, page {page}\")\n",
    "        \n",
    "        return text\n",
    "\n",
    "    def process(self,file_url: str):\n",
    "\n",
    "        text = self.read_pdf(file_url)\n",
    "        \n",
    "        text_splitter = RecursiveCharacterTextSplitter(\n",
    "            chunk_size = 4000, # Adjust this as you see fit\n",
    "            chunk_overlap  = 400, # This let's text have some form of overlap. Useful for keeping chunks contextual\n",
    "            length_function = len\n",
    "        )\n",
    "    \n",
    "        chunks = text_splitter.split_text(text)\n",
    "        df = pd.DataFrame(chunks, columns=['chunks'])\n",
    "        \n",
    "        yield from df.itertuples(index=False, name=None)\n",
    "$$;"
   ]
  },
  {
   "cell_type": "code",
   "execution_count": null,
   "id": "211743e2-5638-40bf-97bc-0386c77eacdf",
   "metadata": {
    "collapsed": false,
    "language": "sql",
    "name": "cell9"
   },
   "outputs": [],
   "source": [
    "create or replace TABLE DOCS_CHUNKS_TABLE ( \n",
    "    RELATIVE_PATH VARCHAR(16777216), -- Relative path to the PDF file\n",
    "    SIZE NUMBER(38,0), -- Size of the PDF\n",
    "    FILE_URL VARCHAR(16777216), -- URL for the PDF\n",
    "    SCOPED_FILE_URL VARCHAR(16777216), -- Scoped url (you can choose which one to keep depending on your use case)\n",
    "    CHUNK VARCHAR(16777216), -- Piece of text\n",
    "    CHUNK_VEC VECTOR(FLOAT, 768) );  -- Embedding using the VECTOR data type"
   ]
  },
  {
   "cell_type": "code",
   "execution_count": null,
   "id": "f5cd2193-14f1-4a78-96e2-b954e6c883ec",
   "metadata": {
    "collapsed": false,
    "language": "sql",
    "name": "cell11"
   },
   "outputs": [],
   "source": [
    "insert into docs_chunks_table (relative_path, size, file_url,\n",
    "                            scoped_file_url, chunk, chunk_vec)\n",
    "select \n",
    "    relative_path, \n",
    "    size,\n",
    "    file_url, \n",
    "    build_scoped_file_url(@workplace_policies, relative_path) as scoped_file_url,\n",
    "    func.chunk as chunk,\n",
    "    SNOWFLAKE.CORTEX.EMBED_TEXT_768('snowflake-arctic-embed-m',chunk) as chunk_vec\n",
    "from \n",
    "    directory(@workplace_policies),\n",
    "    TABLE(pdf_text_chunker(build_scoped_file_url(@workplace_policies, relative_path))) as func;"
   ]
  },
  {
   "cell_type": "code",
   "execution_count": null,
   "id": "d06e7af4-4678-42f0-8d87-9341baa7dbb3",
   "metadata": {
    "collapsed": false,
    "language": "sql",
    "name": "cell12"
   },
   "outputs": [],
   "source": [
    "select * from docs_chunks_table;"
   ]
  },
  {
   "cell_type": "code",
   "execution_count": null,
   "id": "e7ecfcc0-f037-484c-8068-581d733b5d57",
   "metadata": {
    "collapsed": false,
    "language": "sql",
    "name": "cell13"
   },
   "outputs": [],
   "source": [
    "select snowflake.cortex.complete('mixtral-8x7b',\n",
    "$$\n",
    "You are tasked with merging multiple workplace violence policies into one comprehensive and cohesive policy document. The policies provided cover various aspects of workplace violence, including prevention, reporting procedures, response protocols, and employee support. Your goal is to integrate these policies seamlessly, ensuring thoroughness, clarity, consistency, and completeness. Follow these detailed guidelines:\n",
    "\n",
    "1. Organize Logically: Structure the combined policy into clear, well-defined sections with appropriate headings. Each section should comprehensively cover a specific area (e.g., prevention, reporting procedures, response protocols, employee support). Ensure there is a logical flow between sections.\n",
    "\n",
    "2. Maintain Consistency: Ensure that the terminology, tone, and style are consistent throughout the document. Use uniform language and definitions for similar concepts across different sections to maintain coherence.\n",
    "\n",
    "3. Eliminate Redundancies: Identify and remove any redundant statements or sections. Consolidate similar policies to avoid repetition while preserving important details and nuances.\n",
    "\n",
    "4. Enhance Clarity: Rewrite complex or ambiguous sentences to improve clarity. Use clear, concise language and provide examples where necessary to ensure each policy is easy to understand for all employees.\n",
    "\n",
    "5. Ensure Compliance: Verify that the combined policy adheres to all relevant legal and regulatory requirements. Include references to applicable laws and regulations where necessary, and ensure the policy is up-to-date with current standards.\n",
    "\n",
    "6. Include Definitions: Provide a comprehensive section for definitions of key terms used in the policy. This helps ensure that everyone has a clear understanding of important concepts and terminology.\n",
    "\n",
    "7. Detail Procedures: Thoroughly detail all procedures for preventing, reporting, and responding to workplace violence. Ensure that each step is clearly outlined, including roles and responsibilities of employees and management.\n",
    "\n",
    "8. Provide Resources and Support: Include information on available resources and support for employees affected by workplace violence. Detail any counseling services, hotlines, or support groups available.\n",
    "\n",
    "9. Review and Revise: After combining the policies, meticulously review the entire document for coherence, completeness, and accuracy. Make any necessary revisions to improve the overall quality, ensuring that all sections are comprehensive and aligned with the overall policy objectives.\n",
    "\n",
    "10. Add an Appendix: Consider adding an appendix for supplementary information such as contact lists, emergency procedures, and frequently asked questions (FAQs).\n",
    "\n",
    "Below are the text excerpts from the different workplace violence policies:\n",
    "\n",
    "$$ \n",
    "\n",
    "|| listagg(chunk,' ') || \n",
    "\n",
    "$$ Using the provided text excerpts, create a comprehensive workplace violence policy document that integrates all aspects as described above. Ensure the final document is thorough, detailed, and user-friendly.$$\n",
    ") as model_response\n",
    "from docs_chunks_table;"
   ]
  },
  {
   "cell_type": "code",
   "execution_count": null,
   "id": "c695373e-ac74-4b62-a1f1-08206cbd5c81",
   "metadata": {
    "codeCollapsed": false,
    "collapsed": false,
    "language": "python",
    "name": "cell3"
   },
   "outputs": [],
   "source": [
    "import streamlit as st\n",
    "combined_policy = cells.cell13.to_pandas()\n",
    "\n",
    "st.markdown(combined_policy.iat[0,0])"
   ]
  },
  {
   "cell_type": "code",
   "execution_count": null,
   "id": "11026b42-b343-4f6c-8f01-6b2ba97bced5",
   "metadata": {
    "collapsed": false,
    "language": "python",
    "name": "cell14"
   },
   "outputs": [],
   "source": [
    "from snowflake.cortex import Complete\n",
    "\n",
    "policy = combined_policy.iat[0,0]\n",
    "response = Complete(\n",
    "    'mixtral-8x7b',\n",
    "    f\"\"\"Can the following policy be improved? Policy:  {policy}\"\"\"\n",
    "    )\n",
    "\n",
    "st.markdown(response)"
   ]
  },
  {
   "cell_type": "code",
   "execution_count": null,
   "id": "46c56e28-5bb5-46dd-9954-83524b70c503",
   "metadata": {
    "collapsed": false,
    "language": "python",
    "name": "cell15"
   },
   "outputs": [],
   "source": [
    "\n",
    "model = 'mixtral-8x7b'\n",
    "policy = combined_policy.iat[0,0]\n",
    "prompt = f\"\"\"\n",
    "# IDENTITY and PURPOSE\n",
    "\n",
    "You are an expert on the subject defined in the input section provided below.\n",
    "\n",
    "# GOAL\n",
    "\n",
    "Generate questions for a student who wants to review the main concepts of the learning objectives provided in the input section provided below.\n",
    "\n",
    "If the input section defines the student level, adapt the questions to that level. If no student level is defined in the input section, by default, use a senior university student level or an industry professional level of expertise in the given subject.\n",
    "\n",
    "Do not answer the questions.\n",
    "\n",
    "Take a deep breath and consider how to accomplish this goal best using the following steps.\n",
    "\n",
    "# STEPS\n",
    "\n",
    "- Extract the subject of the input section.\n",
    "\n",
    "- Redefine your expertise on that given subject.\n",
    "\n",
    "- Extract the learning objectives of the input section.\n",
    "\n",
    "- Generate, upmost, three review questions for each learning objective. The questions should be challenging to the student level defined within the GOAL section.\n",
    "\n",
    "\n",
    "# OUTPUT INSTRUCTIONS\n",
    "\n",
    "- Output in clear, human-readable Markdown.\n",
    "- Print out, in an indented format, the subject and the learning objectives provided with each generated question in the following format delimited by three dashes.\n",
    "Do not print the dashes. \n",
    "---\n",
    "Subject: \n",
    "* Learning objective: \n",
    "    - Question 1: generated question 1\n",
    "    - Answer 1: \n",
    "\n",
    "    - Question 2: generated question 2\n",
    "    - Answer 2:\n",
    "    \n",
    "    - Question 3: generated question 3\n",
    "    - Answer 3:\n",
    "---\n",
    "\n",
    "\n",
    "# INPUT:\n",
    "\n",
    "INPUT:\n",
    "{policy}\n",
    "\"\"\"\n",
    "\n",
    "quiz_result = Complete(model, prompt)\n",
    "st.markdown(quiz_result)"
   ]
  }
 ],
 "metadata": {
  "kernelspec": {
   "display_name": "cortex_gen_ai_workplace_policies",
   "language": "python",
   "name": "python3"
  },
  "language_info": {
   "name": "python",
   "version": "3.11.9"
  }
 },
 "nbformat": 4,
 "nbformat_minor": 5
}
